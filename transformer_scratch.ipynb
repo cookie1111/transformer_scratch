{
 "cells": [
  {
   "cell_type": "markdown",
   "source": [
    "[Attention is all you need](https://arxiv.org/pdf/1706.03762.pdf)"
   ],
   "metadata": {
    "collapsed": false
   }
  },
  {
   "cell_type": "code",
   "execution_count": null,
   "metadata": {
    "collapsed": true
   },
   "outputs": [],
   "source": [
    "import pytorch\n",
    "import torch.nn"
   ]
  },
  {
   "cell_type": "markdown",
   "source": [
    "Transformer consists of an encoder and decoder part:\n",
    "\n",
    "<img src=\"transformer_architecture.png\" width=\"500\">\n",
    "\n",
    "Input is embeded into a vector representation and fed into the encoder. Embeding can be learnt or we can use one of the basic embeding options.\n"
   ],
   "metadata": {
    "collapsed": false
   }
  },
  {
   "cell_type": "markdown",
   "source": [
    "### Encoder\n",
    "\n",
    "Encoder is built from N stacked encoder blocks.\n",
    "\n",
    "<img src=\"encoder_block.png\">\n",
    "\n",
    "Each encoder block has the output size of d_model which in paper is set to 512.\n",
    "Encoder block consists of:\n",
    "- multi head attention block\n",
    "- fully connected feed forward block\n",
    "- layer normalization following each of the sub-layers\n",
    "\n",
    "Input to each sub-block is added to the output of sub-block with a residual connection (evident with the arrow connection around the element) so output of each layer is $LayerNorm(x+Sublayer(x))$. All the sub-layers and embedding layer produce the same dimension of d_model tensors, to allow for the residual connections."
   ],
   "metadata": {
    "collapsed": false
   }
  },
  {
   "cell_type": "markdown",
   "source": [
    "### Attention\n",
    "\n",
    "Attention according to the paper is a mapping from a query and a set of key-value pairs to an output all of which are vectors. Mapping is calculated as a weighted sum of the values, where the weights are obtained by computing a compatibility function of the query and corresponding key.\n",
    "\n",
    "<figure>\n",
    "    <img src=\"attention.png\">\n",
    "    <figcaption>A represents the compatibility function between query and key; B is applying the weight to the corresponding value</figcaption>\n",
    "</figure>\n",
    "\n",
    "### Scaled Dot-Product Attention\n",
    "\n",
    "Input is queries and keys of dimension $d_{k}$ and values of dimension $d_{v}$. Formula for a single query $q$ is\n",
    "$$\n",
    "Attention(q,K,V) = softmax(\\frac{qK^{T}}{\\sqrt{d_{k}}})V\n",
    "$$\n",
    "where q is a single query, K is all keys in matrix form and V is all values in matrix form. This is a simple dot-product attention that gets scaled with $\\sqrt{d_{k}}$ to keep the speed of optimized dot product and save the dot-product from getting too large for softmax. This manoeuvre brings it in line with additive attention while making it much more computationally efficient.\n",
    "\n",
    "Values, keys and queries are all calculated with their respective weighted matrices eg: $q = W_{q}x$ where q is query vector, x is embeding vector of input sequence and $W_{q}$ is the query learnable weight matrix\n",
    "\n"
   ],
   "metadata": {
    "collapsed": false
   }
  },
  {
   "cell_type": "code",
   "execution_count": null,
   "outputs": [],
   "source": [
    "class Attention(torch.nn.Module):\n",
    "    #d_k = d_K/n_heads\n",
    "    def __init__(self,d_model,d_k):\n",
    "        super.__init__()\n",
    "        self.weightQ = torch.nn.Linear(d_model,d_k,bias = False)\n",
    "        self.weightK = torch.nn.Linear(d_model,d_k,bias = False)\n",
    "        self.weightV = torch.nn.Linear(d_model,d_k,bias = False)\n",
    "\n",
    "    def forward(self,input):\n",
    "        query = self.weightQ(input)\n",
    "        key = self.weightK(input)\n",
    "        value = self.weightV(input)\n",
    "        return torch.bmm(torch.nn.Softmax(torch.bmm(query,torch.transpose(key,1,2))/torch.sqrt(query.size(dim=2))),value)"
   ],
   "metadata": {
    "collapsed": false,
    "pycharm": {
     "name": "#%%\n"
    }
   }
  },
  {
   "cell_type": "code",
   "execution_count": null,
   "outputs": [],
   "source": [],
   "metadata": {
    "collapsed": false,
    "pycharm": {
     "name": "#%%\n"
    }
   }
  }
 ],
 "metadata": {
  "kernelspec": {
   "display_name": "Python 3",
   "language": "python",
   "name": "python3"
  },
  "language_info": {
   "codemirror_mode": {
    "name": "ipython",
    "version": 2
   },
   "file_extension": ".py",
   "mimetype": "text/x-python",
   "name": "python",
   "nbconvert_exporter": "python",
   "pygments_lexer": "ipython2",
   "version": "2.7.6"
  }
 },
 "nbformat": 4,
 "nbformat_minor": 0
}